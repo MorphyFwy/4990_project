{
 "cells": [
  {
   "cell_type": "markdown",
   "metadata": {},
   "source": [
    "1.traindata extraction (accident, rain, day, week)-csv file? 2.testdata extraction 3.explorary: build corr matrix and some plot 4.crossvalidation for RF and Boosting (RandomizedSearchCV?)5.different measurement as R^2 6.Network? 7.Webpage?"
   ]
  },
  {
   "cell_type": "markdown",
   "metadata": {},
   "source": [
    "# Final Project 4990"
   ]
  },
  {
   "cell_type": "markdown",
   "metadata": {},
   "source": [
    "In this project, we will build a machine learning model to predict the travel time of a taxi trip in New York City based on the New York City 2016 Taxi data. "
   ]
  },
  {
   "cell_type": "markdown",
   "metadata": {},
   "source": [
    "## 1.Data Gathering"
   ]
  },
  {
   "cell_type": "markdown",
   "metadata": {},
   "source": [
    "Our data is mainly gathered from New York City 2016 Taxi data. To detect features, we combine two more dataset including the New York weather data and traffic accident data. After extracting all features, we remove the outliers and unusual points from the data. "
   ]
  },
  {
   "cell_type": "markdown",
   "metadata": {},
   "source": [
    "### 1.1Big Query Data Extraction"
   ]
  },
  {
   "cell_type": "markdown",
   "metadata": {},
   "source": [
    "#### Dataset Intrduction\n",
    "\n",
    "In this project, we totally join three datasets(*Taxi, Weather, Collision*) to make final prediction of travel_time. According to our intuition, the travel time would be effected by weather and traffic condition, so we choose these two dataset. \n",
    "\n",
    "1. Taxi data\n",
    "\n",
    "Variables selected: *pickup_latitude, pickup_longitude, dropoff_latitude, dropoff_longitude, pickup_datetime, dropoff_datetime, travel_time(derived from dropoff_datetime and pickup_datetime), dayname*\n",
    "\n",
    "2. Weather data\n",
    "\n",
    "Variables selected: *visib, prcp, fog, rain_drizzle, snow_ice_pellets, hail*\n",
    "\n",
    "3. Traffic collision data\n",
    "\n",
    "Variables selected: *date_of_accident, longitude, latitude, timestamp*\n",
    "\n",
    "#### Big Query(Taxi Data & Weather)"
   ]
  },
  {
   "cell_type": "code",
   "execution_count": 1,
   "metadata": {},
   "outputs": [],
   "source": [
    "import pandas as pd\n",
    "import os\n",
    "\n",
    "pd.set_option('display.max_columns', 500)\n",
    "os.environ[\"GOOGLE_APPLICATION_CREDENTIALS\"]=\"/Users/hcy/Downloads/ecbm4040-ch3409-ab3a944860f8.json\""
   ]
  },
  {
   "cell_type": "code",
   "execution_count": 8,
   "metadata": {},
   "outputs": [
    {
     "data": {
      "text/html": [
       "<div>\n",
       "<style scoped>\n",
       "    .dataframe tbody tr th:only-of-type {\n",
       "        vertical-align: middle;\n",
       "    }\n",
       "\n",
       "    .dataframe tbody tr th {\n",
       "        vertical-align: top;\n",
       "    }\n",
       "\n",
       "    .dataframe thead th {\n",
       "        text-align: right;\n",
       "    }\n",
       "</style>\n",
       "<table border=\"1\" class=\"dataframe\">\n",
       "  <thead>\n",
       "    <tr style=\"text-align: right;\">\n",
       "      <th></th>\n",
       "      <th>pickup_latitude</th>\n",
       "      <th>pickup_longitude</th>\n",
       "      <th>dropoff_latitude</th>\n",
       "      <th>dropoff_longitude</th>\n",
       "      <th>travel_time</th>\n",
       "      <th>pickup_datetime</th>\n",
       "      <th>dropoff_datetime</th>\n",
       "      <th>dayname</th>\n",
       "      <th>date_of_year</th>\n",
       "      <th>hour_of_day</th>\n",
       "      <th>if_during_peek</th>\n",
       "      <th>distance_in_km</th>\n",
       "      <th>date_of_year2</th>\n",
       "      <th>visib</th>\n",
       "      <th>prcp</th>\n",
       "      <th>fog</th>\n",
       "      <th>rain_drizzle</th>\n",
       "      <th>snow_ice_pellets</th>\n",
       "      <th>hail</th>\n",
       "    </tr>\n",
       "  </thead>\n",
       "  <tbody>\n",
       "    <tr>\n",
       "      <th>0</th>\n",
       "      <td>40.719234</td>\n",
       "      <td>-73.990921</td>\n",
       "      <td>40.756737</td>\n",
       "      <td>-73.873405</td>\n",
       "      <td>1189</td>\n",
       "      <td>2016-05-28 03:04:14+00:00</td>\n",
       "      <td>2016-05-28 03:24:03+00:00</td>\n",
       "      <td>Saturday</td>\n",
       "      <td>2016-05-28</td>\n",
       "      <td>3</td>\n",
       "      <td>0</td>\n",
       "      <td>14.049296</td>\n",
       "      <td>2016-05-28</td>\n",
       "      <td>7.7</td>\n",
       "      <td>0.00</td>\n",
       "      <td>0</td>\n",
       "      <td>0</td>\n",
       "      <td>0</td>\n",
       "      <td>0</td>\n",
       "    </tr>\n",
       "    <tr>\n",
       "      <th>1</th>\n",
       "      <td>40.770714</td>\n",
       "      <td>-73.947662</td>\n",
       "      <td>40.708187</td>\n",
       "      <td>-73.915367</td>\n",
       "      <td>2155</td>\n",
       "      <td>2016-01-24 16:56:32+00:00</td>\n",
       "      <td>2016-01-24 17:32:27+00:00</td>\n",
       "      <td>Sunday</td>\n",
       "      <td>2016-01-24</td>\n",
       "      <td>16</td>\n",
       "      <td>0</td>\n",
       "      <td>9.661783</td>\n",
       "      <td>2016-01-24</td>\n",
       "      <td>7.4</td>\n",
       "      <td>1.82</td>\n",
       "      <td>1</td>\n",
       "      <td>0</td>\n",
       "      <td>1</td>\n",
       "      <td>0</td>\n",
       "    </tr>\n",
       "    <tr>\n",
       "      <th>2</th>\n",
       "      <td>40.774204</td>\n",
       "      <td>-73.872955</td>\n",
       "      <td>40.731628</td>\n",
       "      <td>-73.988457</td>\n",
       "      <td>2050</td>\n",
       "      <td>2016-05-30 20:13:35+00:00</td>\n",
       "      <td>2016-05-30 20:47:45+00:00</td>\n",
       "      <td>Monday</td>\n",
       "      <td>2016-05-30</td>\n",
       "      <td>20</td>\n",
       "      <td>1</td>\n",
       "      <td>14.446934</td>\n",
       "      <td>2016-05-30</td>\n",
       "      <td>7.2</td>\n",
       "      <td>1.65</td>\n",
       "      <td>1</td>\n",
       "      <td>1</td>\n",
       "      <td>0</td>\n",
       "      <td>0</td>\n",
       "    </tr>\n",
       "    <tr>\n",
       "      <th>3</th>\n",
       "      <td>40.769749</td>\n",
       "      <td>-73.863647</td>\n",
       "      <td>40.747921</td>\n",
       "      <td>-73.993210</td>\n",
       "      <td>2977</td>\n",
       "      <td>2016-06-28 08:55:03+00:00</td>\n",
       "      <td>2016-06-28 09:44:40+00:00</td>\n",
       "      <td>Tuesday</td>\n",
       "      <td>2016-06-28</td>\n",
       "      <td>8</td>\n",
       "      <td>1</td>\n",
       "      <td>13.323477</td>\n",
       "      <td>2016-06-28</td>\n",
       "      <td>5.7</td>\n",
       "      <td>0.54</td>\n",
       "      <td>0</td>\n",
       "      <td>1</td>\n",
       "      <td>0</td>\n",
       "      <td>0</td>\n",
       "    </tr>\n",
       "    <tr>\n",
       "      <th>4</th>\n",
       "      <td>40.765320</td>\n",
       "      <td>-73.979980</td>\n",
       "      <td>40.728981</td>\n",
       "      <td>-73.874580</td>\n",
       "      <td>1148</td>\n",
       "      <td>2016-06-19 01:06:14+00:00</td>\n",
       "      <td>2016-06-19 01:25:22+00:00</td>\n",
       "      <td>Sunday</td>\n",
       "      <td>2016-06-19</td>\n",
       "      <td>1</td>\n",
       "      <td>0</td>\n",
       "      <td>12.904700</td>\n",
       "      <td>2016-06-19</td>\n",
       "      <td>9.4</td>\n",
       "      <td>0.00</td>\n",
       "      <td>0</td>\n",
       "      <td>0</td>\n",
       "      <td>0</td>\n",
       "      <td>0</td>\n",
       "    </tr>\n",
       "  </tbody>\n",
       "</table>\n",
       "</div>"
      ],
      "text/plain": [
       "   pickup_latitude  pickup_longitude  dropoff_latitude  dropoff_longitude  \\\n",
       "0        40.719234        -73.990921         40.756737         -73.873405   \n",
       "1        40.770714        -73.947662         40.708187         -73.915367   \n",
       "2        40.774204        -73.872955         40.731628         -73.988457   \n",
       "3        40.769749        -73.863647         40.747921         -73.993210   \n",
       "4        40.765320        -73.979980         40.728981         -73.874580   \n",
       "\n",
       "   travel_time           pickup_datetime          dropoff_datetime   dayname  \\\n",
       "0         1189 2016-05-28 03:04:14+00:00 2016-05-28 03:24:03+00:00  Saturday   \n",
       "1         2155 2016-01-24 16:56:32+00:00 2016-01-24 17:32:27+00:00    Sunday   \n",
       "2         2050 2016-05-30 20:13:35+00:00 2016-05-30 20:47:45+00:00    Monday   \n",
       "3         2977 2016-06-28 08:55:03+00:00 2016-06-28 09:44:40+00:00   Tuesday   \n",
       "4         1148 2016-06-19 01:06:14+00:00 2016-06-19 01:25:22+00:00    Sunday   \n",
       "\n",
       "  date_of_year  hour_of_day  if_during_peek  distance_in_km date_of_year2  \\\n",
       "0   2016-05-28            3               0       14.049296    2016-05-28   \n",
       "1   2016-01-24           16               0        9.661783    2016-01-24   \n",
       "2   2016-05-30           20               1       14.446934    2016-05-30   \n",
       "3   2016-06-28            8               1       13.323477    2016-06-28   \n",
       "4   2016-06-19            1               0       12.904700    2016-06-19   \n",
       "\n",
       "   visib  prcp fog rain_drizzle snow_ice_pellets hail  \n",
       "0    7.7  0.00   0            0                0    0  \n",
       "1    7.4  1.82   1            0                1    0  \n",
       "2    7.2  1.65   1            1                0    0  \n",
       "3    5.7  0.54   0            1                0    0  \n",
       "4    9.4  0.00   0            0                0    0  "
      ]
     },
     "execution_count": 8,
     "metadata": {},
     "output_type": "execute_result"
    }
   ],
   "source": [
    "from google.cloud import bigquery\n",
    "client = bigquery.Client()\n",
    "\n",
    "## JOIN Taxi,Weather,Accident  / (note: Total number_of_accident everyday)\n",
    "query = (\n",
    "\"\"\"\n",
    "CREATE TEMP FUNCTION RADIANS(x FLOAT64) AS (\n",
    "  ACOS(-1) * x / 180\n",
    ");\n",
    "CREATE TEMP FUNCTION RADIANS_TO_KM(x FLOAT64) AS (\n",
    "  111.045 * 180 * x / ACOS(-1)\n",
    ");\n",
    "CREATE TEMP FUNCTION HAVERSINE(lat1 FLOAT64, long1 FLOAT64,\n",
    "                               lat2 FLOAT64, long2 FLOAT64) AS (\n",
    "  RADIANS_TO_KM(\n",
    "    ACOS(COS(RADIANS(lat1)) * COS(RADIANS(lat2)) *\n",
    "         COS(RADIANS(long1) - RADIANS(long2)) +\n",
    "         SIN(RADIANS(lat1)) * SIN(RADIANS(lat2))))\n",
    ");\n",
    "\n",
    "\n",
    "SELECT * FROM\n",
    "(\n",
    "SELECT \n",
    "     pickup_latitude,\n",
    "     pickup_longitude,\n",
    "     dropoff_latitude,\n",
    "     dropoff_longitude,\n",
    "     TIMESTAMP_DIFF( dropoff_datetime, pickup_datetime, SECOND) as travel_time,\n",
    "     pickup_datetime,\n",
    "     dropoff_datetime,\n",
    "     FORMAT_DATE('%A',EXTRACT(DATE FROM pickup_datetime)) as dayname,\n",
    "     EXTRACT (DATE FROM pickup_datetime) as date_of_year,\n",
    "     EXTRACT (HOUR FROM pickup_datetime) as hour_of_day,\n",
    "     CASE WHEN EXTRACT (HOUR FROM pickup_datetime) in (7,8,9,10,17,18,19,20) THEN 1\n",
    "          ELSE 0\n",
    "          END AS if_during_peek,\n",
    "    HAVERSINE(dropoff_latitude,dropoff_longitude, dropoff_latitude, pickup_longitude) + HAVERSINE(dropoff_latitude,pickup_longitude, pickup_latitude, pickup_longitude) AS distance_in_km\n",
    "    FROM `bigquery-public-data.new_york.tlc_yellow_trips_2016`\n",
    "    WHERE pickup_latitude IS NOT NULL AND pickup_longitude IS NOT NULL and dropoff_longitude IS NOT NULL and (HAVERSINE(dropoff_latitude,dropoff_longitude, dropoff_latitude, pickup_longitude) + HAVERSINE(dropoff_latitude,pickup_longitude, pickup_latitude, pickup_longitude))>0.1 and EXTRACT (YEAR FROM pickup_datetime)=2016\n",
    ") a\n",
    "INNER JOIN\n",
    "(\n",
    " select concat(year,'-',mo,'-',da) as date_of_year2,visib,prcp,fog,rain_drizzle,snow_ice_pellets,hail\n",
    " from `bigquery-public-data.noaa_gsod.gsod2016` where stn='725053'\n",
    ") weather_data\n",
    "on CAST(a.date_of_year AS STRING) = weather_data.date_of_year2 \n",
    "LIMIT 1000000\n",
    "\"\"\" )\n",
    "df=pd.io.gbq.read_gbq(query,dialect='standard')\n",
    "df.head()"
   ]
  },
  {
   "cell_type": "markdown",
   "metadata": {},
   "source": [
    "#### Big Query(Collision Data)"
   ]
  },
  {
   "cell_type": "code",
   "execution_count": 9,
   "metadata": {},
   "outputs": [
    {
     "data": {
      "text/html": [
       "<div>\n",
       "<style scoped>\n",
       "    .dataframe tbody tr th:only-of-type {\n",
       "        vertical-align: middle;\n",
       "    }\n",
       "\n",
       "    .dataframe tbody tr th {\n",
       "        vertical-align: top;\n",
       "    }\n",
       "\n",
       "    .dataframe thead th {\n",
       "        text-align: right;\n",
       "    }\n",
       "</style>\n",
       "<table border=\"1\" class=\"dataframe\">\n",
       "  <thead>\n",
       "    <tr style=\"text-align: right;\">\n",
       "      <th></th>\n",
       "      <th>date_of_accident</th>\n",
       "      <th>longitude</th>\n",
       "      <th>latitude</th>\n",
       "      <th>timestamp</th>\n",
       "    </tr>\n",
       "  </thead>\n",
       "  <tbody>\n",
       "    <tr>\n",
       "      <th>0</th>\n",
       "      <td>2016-05-15</td>\n",
       "      <td>-73.882744</td>\n",
       "      <td>40.816864</td>\n",
       "      <td>2016-05-15 06:40:00</td>\n",
       "    </tr>\n",
       "    <tr>\n",
       "      <th>1</th>\n",
       "      <td>2016-02-13</td>\n",
       "      <td>-73.804000</td>\n",
       "      <td>40.760272</td>\n",
       "      <td>2016-02-13 09:50:00</td>\n",
       "    </tr>\n",
       "    <tr>\n",
       "      <th>2</th>\n",
       "      <td>2016-03-19</td>\n",
       "      <td>-74.009040</td>\n",
       "      <td>40.713560</td>\n",
       "      <td>2016-03-19 22:25:00</td>\n",
       "    </tr>\n",
       "    <tr>\n",
       "      <th>3</th>\n",
       "      <td>2016-04-28</td>\n",
       "      <td>-73.917550</td>\n",
       "      <td>40.728400</td>\n",
       "      <td>2016-04-28 00:00:00</td>\n",
       "    </tr>\n",
       "    <tr>\n",
       "      <th>4</th>\n",
       "      <td>2016-01-10</td>\n",
       "      <td>-73.917752</td>\n",
       "      <td>40.743046</td>\n",
       "      <td>2016-01-10 00:30:00</td>\n",
       "    </tr>\n",
       "  </tbody>\n",
       "</table>\n",
       "</div>"
      ],
      "text/plain": [
       "  date_of_accident  longitude   latitude           timestamp\n",
       "0       2016-05-15 -73.882744  40.816864 2016-05-15 06:40:00\n",
       "1       2016-02-13 -73.804000  40.760272 2016-02-13 09:50:00\n",
       "2       2016-03-19 -74.009040  40.713560 2016-03-19 22:25:00\n",
       "3       2016-04-28 -73.917550  40.728400 2016-04-28 00:00:00\n",
       "4       2016-01-10 -73.917752  40.743046 2016-01-10 00:30:00"
      ]
     },
     "execution_count": 9,
     "metadata": {},
     "output_type": "execute_result"
    }
   ],
   "source": [
    "query = (\n",
    "\"\"\"\n",
    "SELECT EXTRACT (DATE FROM timestamp) as date_of_accident,longitude,latitude,timestamp\n",
    "FROM `bigquery-public-data.new_york_mv_collisions.nypd_mv_collisions` \n",
    "WHERE EXTRACT (YEAR FROM timestamp) = 2016 and (EXTRACT (MONTH FROM timestamp) in (1,2,3,4,5,6))\n",
    "\"\"\")\n",
    "df_2=pd.io.gbq.read_gbq(query,dialect='standard')\n",
    "df_2.head()"
   ]
  },
  {
   "cell_type": "markdown",
   "metadata": {},
   "source": [
    "### 1.2 Feature Extraction\n",
    "\n",
    "After getting original data from BigQuery, we need to extract some features for future need. The extracted features are as followings:\n",
    "\n",
    "1. Convert Day name to one hot encoded dummy variables\n",
    "\n",
    "2. if_during_peak : we split 24 hours into two period, one is peak period include(7,8,9,10,17,18,19,20), for which the traffic is heavy,the left is normal period, for which traffic is light.\n",
    "\n",
    "3. Travel Distance : we use Manhattan distance to compute the length of route given the location of pickup area and dropoff area.\n",
    "\n",
    "4. 30_minute_before_pickup : this variable is a 30 minutes earlier timestamp of pickup_datetime\n",
    "\n",
    "5. number_of_accident : the number of accidents during the 30 minutes before pickup_datetime\n"
   ]
  },
  {
   "cell_type": "code",
   "execution_count": 20,
   "metadata": {},
   "outputs": [],
   "source": [
    "# Convert Day name to one hot\n",
    "import numpy as np\n",
    "\n",
    "if_Monday = np.zeros([df.shape[0],1])\n",
    "if_Tuesday = np.zeros([df.shape[0],1])\n",
    "if_Wednesday = np.zeros([df.shape[0],1])\n",
    "if_Thursday = np.zeros([df.shape[0],1])\n",
    "if_Friday = np.zeros([df.shape[0],1])\n",
    "if_Saturday = np.zeros([df.shape[0],1])\n",
    "for i in range(df.shape[0]):\n",
    "    if df['dayname'].iloc[i] == 'Monday': if_Monday[i] = 1\n",
    "    elif df['dayname'].iloc[i] == 'Tuesday': if_Tuesday[i] = 1\n",
    "    elif df['dayname'].iloc[i] == 'Wednesday': if_Wednesday[i] = 1\n",
    "    elif df['dayname'].iloc[i] == 'Thursday': if_Thursday[i] = 1\n",
    "    elif df['dayname'].iloc[i] == 'Friday': if_Friday[i] = 1\n",
    "    elif df['dayname'].iloc[i] == 'Saturday': if_Saturday[i] = 1 \n",
    "df['if_Monday'] = if_Monday\n",
    "df['if_Tuesday'] = if_Tuesday\n",
    "df['if_Wednesday'] = if_Wednesday\n",
    "df['if_Thursday'] = if_Thursday\n",
    "df['if_Friday'] = if_Friday\n",
    "df['if_Saturday'] = if_Saturday"
   ]
  },
  {
   "cell_type": "code",
   "execution_count": null,
   "metadata": {},
   "outputs": [],
   "source": [
    "# Compute the 30_minute_before_pickup\n",
    "from datetime import timedelta\n",
    "df['30_minute_before_pickup'] = df['pickup_datetime'] - timedelta(minutes=30)"
   ]
  },
  {
   "cell_type": "markdown",
   "metadata": {},
   "source": [
    "### 1.3Remove Outliers"
   ]
  },
  {
   "cell_type": "code",
   "execution_count": 26,
   "metadata": {},
   "outputs": [],
   "source": [
    "%matplotlib inline\n",
    "import matplotlib.pyplot as plt"
   ]
  },
  {
   "cell_type": "markdown",
   "metadata": {},
   "source": [
    "First, let's have a look at the **distance** and **travel_time** to find whether there are outliers in these two variables."
   ]
  },
  {
   "cell_type": "code",
   "execution_count": 83,
   "metadata": {},
   "outputs": [
    {
     "data": {
      "text/plain": [
       "<matplotlib.axes._subplots.AxesSubplot at 0x115b1ba58>"
      ]
     },
     "execution_count": 83,
     "metadata": {},
     "output_type": "execute_result"
    },
    {
     "data": {
      "image/png": "[encoded data removed]",
      "text/plain": [
       "<Figure size 432x288 with 1 Axes>"
      ]
     },
     "metadata": {},
     "output_type": "display_data"
    }
   ],
   "source": [
    "# Plot (distance vs. travel_time)\n",
    "df.plot(x='distance_in_km',y='travel_time',kind='scatter')"
   ]
  },
  {
   "cell_type": "markdown",
   "metadata": {},
   "source": [
    "From the scatter plot, we can find there might be some outliers for which **the distance_in_km** $>10000$ and **travel_time** $>10000$. It's almost impossible to happen, therefore, we remove these data. Here, the reason why we control the **travel_time** to be $< 2000$,which is roughly equal to $35$ minutes, is that we find most of our data is in this area, so we only consider these data."
   ]
  },
  {
   "cell_type": "code",
   "execution_count": 27,
   "metadata": {},
   "outputs": [
    {
     "data": {
      "text/plain": [
       "<matplotlib.axes._subplots.AxesSubplot at 0x12b6210f0>"
      ]
     },
     "execution_count": 27,
     "metadata": {},
     "output_type": "execute_result"
    },
    {
     "data": {
      "image/png": "[encoded data removed]",
      "text/plain": [
       "<Figure size 432x288 with 1 Axes>"
      ]
     },
     "metadata": {},
     "output_type": "display_data"
    }
   ],
   "source": [
    "# Filter the outliers in 'distance' and 'travel_time'\n",
    "df_filtered=df[(df['travel_time']>0) & (df['distance_in_km']<50)  & (df['travel_time']<2000)]\n",
    "df_filtered.plot(x='distance_in_km',y='travel_time',kind='scatter')"
   ]
  },
  {
   "cell_type": "markdown",
   "metadata": {},
   "source": [
    "After filtering the dataset, the remaining data seems more reasonable. Next, we ues similar procedure to find whether there are outliers for other variables. First, let's take a look at the **latitude** and **longitude** of the pickup and dropoff place."
   ]
  },
  {
   "cell_type": "code",
   "execution_count": 30,
   "metadata": {},
   "outputs": [
    {
     "data": {
      "text/plain": [
       "<matplotlib.axes._subplots.AxesSubplot at 0x12b70d518>"
      ]
     },
     "execution_count": 30,
     "metadata": {},
     "output_type": "execute_result"
    },
    {
     "data": {
      "image/png": "[encoded data removed]",
      "text/plain": [
       "<Figure size 432x288 with 1 Axes>"
      ]
     },
     "metadata": {},
     "output_type": "display_data"
    }
   ],
   "source": [
    "df_filtered.plot(x='dropoff_latitude',y='dropoff_longitude',kind='scatter')"
   ]
  },
  {
   "cell_type": "code",
   "execution_count": 32,
   "metadata": {},
   "outputs": [
    {
     "data": {
      "text/plain": [
       "<matplotlib.axes._subplots.AxesSubplot at 0x127637198>"
      ]
     },
     "execution_count": 32,
     "metadata": {},
     "output_type": "execute_result"
    },
    {
     "data": {
      "image/png": "[encoded data removed]",
      "text/plain": [
       "<Figure size 432x288 with 1 Axes>"
      ]
     },
     "metadata": {},
     "output_type": "display_data"
    }
   ],
   "source": [
    "df_filtered.plot(x='pickup_latitude',y='pickup_longitude',kind='scatter')"
   ]
  },
  {
   "cell_type": "markdown",
   "metadata": {},
   "source": [
    "From the plot, we can find some latitude and longitude are not exactly in the New York City, for which the latitude should be around $40.730610$, and longitude should be around $73.935242$. Therefore, we remove the data for which the longitude $<-80$ or $>-70$. "
   ]
  },
  {
   "cell_type": "code",
   "execution_count": 33,
   "metadata": {},
   "outputs": [
    {
     "data": {
      "text/plain": [
       "Text(0.5,1,'Histogram of dropoff_longitude')"
      ]
     },
     "execution_count": 33,
     "metadata": {},
     "output_type": "execute_result"
    },
    {
     "data": {
      "image/png": "[encoded data removed]",
      "text/plain": [
       "<Figure size 432x288 with 1 Axes>"
      ]
     },
     "metadata": {},
     "output_type": "display_data"
    }
   ],
   "source": [
    "df_filtered_1 = df_filtered[(df_filtered['dropoff_longitude']>-80) & (df_filtered['dropoff_longitude']< -70) & (df_filtered['pickup_longitude']>-80) & (df_filtered['pickup_longitude']< -70)]\n",
    "df_filtered_1['dropoff_longitude'].hist()\n",
    "plt.title('Histogram of dropoff_longitude')"
   ]
  },
  {
   "cell_type": "markdown",
   "metadata": {},
   "source": [
    "Then, we look at the weather variables, which include **visibility**, **fog**, **precipitation**, **snow**, **hail** "
   ]
  },
  {
   "cell_type": "code",
   "execution_count": 42,
   "metadata": {},
   "outputs": [
    {
     "data": {
      "image/png": "[encoded data removed]",
      "text/plain": [
       "<Figure size 432x288 with 1 Axes>"
      ]
     },
     "metadata": {},
     "output_type": "display_data"
    }
   ],
   "source": [
    "# Histogram of visibility \n",
    "df_filtered['visib'].hist()\n",
    "plt.title('Histogram of visibility')\n",
    "\n",
    "# Remove the outliers in visibility\n",
    "df_filtered_2 = df_filtered_1[df_filtered_1['visib']<200]"
   ]
  },
  {
   "cell_type": "markdown",
   "metadata": {},
   "source": [
    "By drawing the histogram plot of visibility, we can see some extreme points for which the values of visibility are more than 800, so we remove these extreme points."
   ]
  },
  {
   "cell_type": "markdown",
   "metadata": {},
   "source": [
    "Besides, some weather variables are categorical and it's hard to say there are outliers in these variables. Therefore, we use some tables to get a overview of these variables."
   ]
  },
  {
   "cell_type": "code",
   "execution_count": 41,
   "metadata": {},
   "outputs": [
    {
     "name": "stdout",
     "output_type": "stream",
     "text": [
      "0    854869\n",
      "1     38762\n",
      "Name: fog, dtype: int64\n",
      "0    825780\n",
      "1     67851\n",
      "Name: snow_ice_pellets, dtype: int64\n",
      "0    893631\n",
      "Name: hail, dtype: int64\n"
     ]
    }
   ],
   "source": [
    "print(df_filtered_2['fog'].value_counts())\n",
    "print(df_filtered_2['snow_ice_pellets'].value_counts())\n",
    "print(df_filtered_2['hail'].value_counts())"
   ]
  },
  {
   "cell_type": "markdown",
   "metadata": {},
   "source": [
    "We found the values of variable **hail** are all the same. The reason is that the dataset only contains data from 2016 Jan to 2016 Jun, during which period there isn't hail. As a result, we remove this variable from our training set because it can't improve the performance of our model."
   ]
  },
  {
   "cell_type": "markdown",
   "metadata": {},
   "source": [
    "Till now, we finally have the clean dataset which can be used for our model !"
   ]
  },
  {
   "cell_type": "code",
   "execution_count": 79,
   "metadata": {},
   "outputs": [],
   "source": [
    "# Final Dataset\n",
    "df_train = df_filtered_2[['travel_time','distance_in_km','pickup_latitude','pickup_longitude','dropoff_latitude','dropoff_longitude','pickup_datetime','30_minute_before_pickup','if_Monday','if_Tuesday', 'if_Wednesday',\n",
    "       'if_Thursday', 'if_Friday', 'if_Saturday','if_during_peek','visib','fog','prcp','snow_ice_pellets']]"
   ]
  },
  {
   "cell_type": "code",
   "execution_count": 80,
   "metadata": {},
   "outputs": [
    {
     "data": {
      "text/plain": [
       "(873793, 19)"
      ]
     },
     "execution_count": 80,
     "metadata": {},
     "output_type": "execute_result"
    }
   ],
   "source": [
    "df_train.shape"
   ]
  },
  {
   "cell_type": "code",
   "execution_count": 81,
   "metadata": {},
   "outputs": [
    {
     "data": {
      "text/html": [
       "<div>\n",
       "<style scoped>\n",
       "    .dataframe tbody tr th:only-of-type {\n",
       "        vertical-align: middle;\n",
       "    }\n",
       "\n",
       "    .dataframe tbody tr th {\n",
       "        vertical-align: top;\n",
       "    }\n",
       "\n",
       "    .dataframe thead th {\n",
       "        text-align: right;\n",
       "    }\n",
       "</style>\n",
       "<table border=\"1\" class=\"dataframe\">\n",
       "  <thead>\n",
       "    <tr style=\"text-align: right;\">\n",
       "      <th></th>\n",
       "      <th>travel_time</th>\n",
       "      <th>distance_in_km</th>\n",
       "      <th>pickup_latitude</th>\n",
       "      <th>pickup_longitude</th>\n",
       "      <th>dropoff_latitude</th>\n",
       "      <th>dropoff_longitude</th>\n",
       "      <th>pickup_datetime</th>\n",
       "      <th>30_minute_before_pickup</th>\n",
       "      <th>if_Monday</th>\n",
       "      <th>if_Tuesday</th>\n",
       "      <th>if_Wednesday</th>\n",
       "      <th>if_Thursday</th>\n",
       "      <th>if_Friday</th>\n",
       "      <th>if_Saturday</th>\n",
       "      <th>if_during_peek</th>\n",
       "      <th>visib</th>\n",
       "      <th>fog</th>\n",
       "      <th>prcp</th>\n",
       "      <th>snow_ice_pellets</th>\n",
       "    </tr>\n",
       "  </thead>\n",
       "  <tbody>\n",
       "    <tr>\n",
       "      <th>0</th>\n",
       "      <td>1189</td>\n",
       "      <td>14.049296</td>\n",
       "      <td>40.719234</td>\n",
       "      <td>-73.990921</td>\n",
       "      <td>40.756737</td>\n",
       "      <td>-73.873405</td>\n",
       "      <td>2016-05-28 03:04:14+00:00</td>\n",
       "      <td>2016-05-28 02:34:14+00:00</td>\n",
       "      <td>0.0</td>\n",
       "      <td>0.0</td>\n",
       "      <td>0.0</td>\n",
       "      <td>0.0</td>\n",
       "      <td>0.0</td>\n",
       "      <td>1.0</td>\n",
       "      <td>0</td>\n",
       "      <td>7.7</td>\n",
       "      <td>0</td>\n",
       "      <td>0.0</td>\n",
       "      <td>0</td>\n",
       "    </tr>\n",
       "    <tr>\n",
       "      <th>4</th>\n",
       "      <td>1148</td>\n",
       "      <td>12.904700</td>\n",
       "      <td>40.765320</td>\n",
       "      <td>-73.979980</td>\n",
       "      <td>40.728981</td>\n",
       "      <td>-73.874580</td>\n",
       "      <td>2016-06-19 01:06:14+00:00</td>\n",
       "      <td>2016-06-19 00:36:14+00:00</td>\n",
       "      <td>0.0</td>\n",
       "      <td>0.0</td>\n",
       "      <td>0.0</td>\n",
       "      <td>0.0</td>\n",
       "      <td>0.0</td>\n",
       "      <td>0.0</td>\n",
       "      <td>0</td>\n",
       "      <td>9.4</td>\n",
       "      <td>0</td>\n",
       "      <td>0.0</td>\n",
       "      <td>0</td>\n",
       "    </tr>\n",
       "    <tr>\n",
       "      <th>6</th>\n",
       "      <td>1770</td>\n",
       "      <td>9.617488</td>\n",
       "      <td>40.722301</td>\n",
       "      <td>-74.008026</td>\n",
       "      <td>40.786289</td>\n",
       "      <td>-73.978149</td>\n",
       "      <td>2016-06-20 18:02:29+00:00</td>\n",
       "      <td>2016-06-20 17:32:29+00:00</td>\n",
       "      <td>1.0</td>\n",
       "      <td>0.0</td>\n",
       "      <td>0.0</td>\n",
       "      <td>0.0</td>\n",
       "      <td>0.0</td>\n",
       "      <td>0.0</td>\n",
       "      <td>1</td>\n",
       "      <td>8.9</td>\n",
       "      <td>0</td>\n",
       "      <td>0.0</td>\n",
       "      <td>0</td>\n",
       "    </tr>\n",
       "    <tr>\n",
       "      <th>7</th>\n",
       "      <td>1702</td>\n",
       "      <td>18.033233</td>\n",
       "      <td>40.740547</td>\n",
       "      <td>-73.998154</td>\n",
       "      <td>40.851570</td>\n",
       "      <td>-73.930237</td>\n",
       "      <td>2016-06-19 05:45:03+00:00</td>\n",
       "      <td>2016-06-19 05:15:03+00:00</td>\n",
       "      <td>0.0</td>\n",
       "      <td>0.0</td>\n",
       "      <td>0.0</td>\n",
       "      <td>0.0</td>\n",
       "      <td>0.0</td>\n",
       "      <td>0.0</td>\n",
       "      <td>0</td>\n",
       "      <td>9.4</td>\n",
       "      <td>0</td>\n",
       "      <td>0.0</td>\n",
       "      <td>0</td>\n",
       "    </tr>\n",
       "    <tr>\n",
       "      <th>10</th>\n",
       "      <td>1578</td>\n",
       "      <td>7.649165</td>\n",
       "      <td>40.769279</td>\n",
       "      <td>-73.989052</td>\n",
       "      <td>40.715061</td>\n",
       "      <td>-74.008400</td>\n",
       "      <td>2016-06-26 01:25:03+00:00</td>\n",
       "      <td>2016-06-26 00:55:03+00:00</td>\n",
       "      <td>0.0</td>\n",
       "      <td>0.0</td>\n",
       "      <td>0.0</td>\n",
       "      <td>0.0</td>\n",
       "      <td>0.0</td>\n",
       "      <td>0.0</td>\n",
       "      <td>0</td>\n",
       "      <td>9.0</td>\n",
       "      <td>0</td>\n",
       "      <td>0.0</td>\n",
       "      <td>0</td>\n",
       "    </tr>\n",
       "  </tbody>\n",
       "</table>\n",
       "</div>"
      ],
      "text/plain": [
       "    travel_time  distance_in_km  pickup_latitude  pickup_longitude  \\\n",
       "0          1189       14.049296        40.719234        -73.990921   \n",
       "4          1148       12.904700        40.765320        -73.979980   \n",
       "6          1770        9.617488        40.722301        -74.008026   \n",
       "7          1702       18.033233        40.740547        -73.998154   \n",
       "10         1578        7.649165        40.769279        -73.989052   \n",
       "\n",
       "    dropoff_latitude  dropoff_longitude           pickup_datetime  \\\n",
       "0          40.756737         -73.873405 2016-05-28 03:04:14+00:00   \n",
       "4          40.728981         -73.874580 2016-06-19 01:06:14+00:00   \n",
       "6          40.786289         -73.978149 2016-06-20 18:02:29+00:00   \n",
       "7          40.851570         -73.930237 2016-06-19 05:45:03+00:00   \n",
       "10         40.715061         -74.008400 2016-06-26 01:25:03+00:00   \n",
       "\n",
       "     30_minute_before_pickup  if_Monday  if_Tuesday  if_Wednesday  \\\n",
       "0  2016-05-28 02:34:14+00:00        0.0         0.0           0.0   \n",
       "4  2016-06-19 00:36:14+00:00        0.0         0.0           0.0   \n",
       "6  2016-06-20 17:32:29+00:00        1.0         0.0           0.0   \n",
       "7  2016-06-19 05:15:03+00:00        0.0         0.0           0.0   \n",
       "10 2016-06-26 00:55:03+00:00        0.0         0.0           0.0   \n",
       "\n",
       "    if_Thursday  if_Friday  if_Saturday  if_during_peek  visib fog  prcp  \\\n",
       "0           0.0        0.0          1.0               0    7.7   0   0.0   \n",
       "4           0.0        0.0          0.0               0    9.4   0   0.0   \n",
       "6           0.0        0.0          0.0               1    8.9   0   0.0   \n",
       "7           0.0        0.0          0.0               0    9.4   0   0.0   \n",
       "10          0.0        0.0          0.0               0    9.0   0   0.0   \n",
       "\n",
       "   snow_ice_pellets  \n",
       "0                 0  \n",
       "4                 0  \n",
       "6                 0  \n",
       "7                 0  \n",
       "10                0  "
      ]
     },
     "execution_count": 81,
     "metadata": {},
     "output_type": "execute_result"
    }
   ],
   "source": [
    "df_train.head()"
   ]
  },
  {
   "cell_type": "code",
   "execution_count": 82,
   "metadata": {},
   "outputs": [],
   "source": [
    "Train_Data_csv = df_train.to_csv(r'/Users/hcy/Desktop/train_data.csv',index=False)"
   ]
  },
  {
   "cell_type": "code",
   "execution_count": 75,
   "metadata": {},
   "outputs": [],
   "source": [
    "Train_Data_2_csv = df_2.to_csv(r'/Users/hcy/Desktop/train_data_2.csv',index=False)"
   ]
  },
  {
   "cell_type": "code",
   "execution_count": 77,
   "metadata": {},
   "outputs": [],
   "source": [
    "Original_Data_csv = df.to_csv(r'/Users/hcy/Desktop/original_data.csv',index=False)"
   ]
  },
  {
   "cell_type": "markdown",
   "metadata": {},
   "source": [
    "## 2.Exploratory Analysis"
   ]
  },
  {
   "cell_type": "markdown",
   "metadata": {},
   "source": [
    "At this part, we do exploratory data analysis to see the relationship between the variable we selected and travel time. First, we can look at the correlation matrix of dataset."
   ]
  },
  {
   "cell_type": "code",
   "execution_count": 57,
   "metadata": {},
   "outputs": [
    {
     "data": {
      "text/html": [
       "<div>\n",
       "<style scoped>\n",
       "    .dataframe tbody tr th:only-of-type {\n",
       "        vertical-align: middle;\n",
       "    }\n",
       "\n",
       "    .dataframe tbody tr th {\n",
       "        vertical-align: top;\n",
       "    }\n",
       "\n",
       "    .dataframe thead th {\n",
       "        text-align: right;\n",
       "    }\n",
       "</style>\n",
       "<table border=\"1\" class=\"dataframe\">\n",
       "  <thead>\n",
       "    <tr style=\"text-align: right;\">\n",
       "      <th></th>\n",
       "      <th>travel_time</th>\n",
       "      <th>distance_in_km</th>\n",
       "      <th>pickup_latitude</th>\n",
       "      <th>pickup_longitude</th>\n",
       "      <th>dropoff_latitude</th>\n",
       "      <th>dropoff_longitude</th>\n",
       "      <th>if_Monday</th>\n",
       "      <th>if_Tuesday</th>\n",
       "      <th>if_Wednesday</th>\n",
       "      <th>if_Thursday</th>\n",
       "      <th>if_Friday</th>\n",
       "      <th>if_Saturday</th>\n",
       "      <th>if_during_peek</th>\n",
       "      <th>visib</th>\n",
       "      <th>prcp</th>\n",
       "    </tr>\n",
       "  </thead>\n",
       "  <tbody>\n",
       "    <tr>\n",
       "      <th>travel_time</th>\n",
       "      <td>1.000000</td>\n",
       "      <td>0.866245</td>\n",
       "      <td>-0.140807</td>\n",
       "      <td>0.325434</td>\n",
       "      <td>-0.122894</td>\n",
       "      <td>0.337474</td>\n",
       "      <td>-0.004008</td>\n",
       "      <td>-0.000586</td>\n",
       "      <td>0.002704</td>\n",
       "      <td>0.009878</td>\n",
       "      <td>0.002704</td>\n",
       "      <td>-0.018006</td>\n",
       "      <td>-0.060756</td>\n",
       "      <td>0.000867</td>\n",
       "      <td>-0.000108</td>\n",
       "    </tr>\n",
       "    <tr>\n",
       "      <th>distance_in_km</th>\n",
       "      <td>0.866245</td>\n",
       "      <td>1.000000</td>\n",
       "      <td>-0.166063</td>\n",
       "      <td>0.421274</td>\n",
       "      <td>-0.047239</td>\n",
       "      <td>0.403802</td>\n",
       "      <td>0.007091</td>\n",
       "      <td>-0.007682</td>\n",
       "      <td>-0.010873</td>\n",
       "      <td>-0.007274</td>\n",
       "      <td>-0.008359</td>\n",
       "      <td>-0.010925</td>\n",
       "      <td>-0.087966</td>\n",
       "      <td>0.002790</td>\n",
       "      <td>0.004694</td>\n",
       "    </tr>\n",
       "    <tr>\n",
       "      <th>pickup_latitude</th>\n",
       "      <td>-0.140807</td>\n",
       "      <td>-0.166063</td>\n",
       "      <td>1.000000</td>\n",
       "      <td>0.079772</td>\n",
       "      <td>0.562041</td>\n",
       "      <td>0.059488</td>\n",
       "      <td>0.009119</td>\n",
       "      <td>0.007588</td>\n",
       "      <td>0.009437</td>\n",
       "      <td>0.007228</td>\n",
       "      <td>0.006868</td>\n",
       "      <td>-0.019946</td>\n",
       "      <td>0.061123</td>\n",
       "      <td>0.001446</td>\n",
       "      <td>-0.002518</td>\n",
       "    </tr>\n",
       "    <tr>\n",
       "      <th>pickup_longitude</th>\n",
       "      <td>0.325434</td>\n",
       "      <td>0.421274</td>\n",
       "      <td>0.079772</td>\n",
       "      <td>1.000000</td>\n",
       "      <td>0.047163</td>\n",
       "      <td>0.410304</td>\n",
       "      <td>0.025865</td>\n",
       "      <td>0.006913</td>\n",
       "      <td>-0.003123</td>\n",
       "      <td>-0.007259</td>\n",
       "      <td>-0.007387</td>\n",
       "      <td>-0.026964</td>\n",
       "      <td>-0.002580</td>\n",
       "      <td>-0.002462</td>\n",
       "      <td>0.012611</td>\n",
       "    </tr>\n",
       "    <tr>\n",
       "      <th>dropoff_latitude</th>\n",
       "      <td>-0.122894</td>\n",
       "      <td>-0.047239</td>\n",
       "      <td>0.562041</td>\n",
       "      <td>0.047163</td>\n",
       "      <td>1.000000</td>\n",
       "      <td>0.294754</td>\n",
       "      <td>0.001730</td>\n",
       "      <td>0.003234</td>\n",
       "      <td>0.004710</td>\n",
       "      <td>0.004755</td>\n",
       "      <td>0.004686</td>\n",
       "      <td>-0.009789</td>\n",
       "      <td>0.032411</td>\n",
       "      <td>0.000719</td>\n",
       "      <td>-0.003748</td>\n",
       "    </tr>\n",
       "    <tr>\n",
       "      <th>dropoff_longitude</th>\n",
       "      <td>0.337474</td>\n",
       "      <td>0.403802</td>\n",
       "      <td>0.059488</td>\n",
       "      <td>0.410304</td>\n",
       "      <td>0.294754</td>\n",
       "      <td>1.000000</td>\n",
       "      <td>0.001861</td>\n",
       "      <td>-0.004831</td>\n",
       "      <td>-0.002073</td>\n",
       "      <td>-0.000873</td>\n",
       "      <td>0.005392</td>\n",
       "      <td>-0.011499</td>\n",
       "      <td>-0.045786</td>\n",
       "      <td>-0.000188</td>\n",
       "      <td>0.000678</td>\n",
       "    </tr>\n",
       "    <tr>\n",
       "      <th>if_Monday</th>\n",
       "      <td>-0.004008</td>\n",
       "      <td>0.007091</td>\n",
       "      <td>0.009119</td>\n",
       "      <td>0.025865</td>\n",
       "      <td>0.001730</td>\n",
       "      <td>0.001861</td>\n",
       "      <td>1.000000</td>\n",
       "      <td>-0.159882</td>\n",
       "      <td>-0.156484</td>\n",
       "      <td>-0.162289</td>\n",
       "      <td>-0.167963</td>\n",
       "      <td>-0.165955</td>\n",
       "      <td>0.029339</td>\n",
       "      <td>-0.113618</td>\n",
       "      <td>0.112940</td>\n",
       "    </tr>\n",
       "    <tr>\n",
       "      <th>if_Tuesday</th>\n",
       "      <td>-0.000586</td>\n",
       "      <td>-0.007682</td>\n",
       "      <td>0.007588</td>\n",
       "      <td>0.006913</td>\n",
       "      <td>0.003234</td>\n",
       "      <td>-0.004831</td>\n",
       "      <td>-0.159882</td>\n",
       "      <td>1.000000</td>\n",
       "      <td>-0.160042</td>\n",
       "      <td>-0.165978</td>\n",
       "      <td>-0.171782</td>\n",
       "      <td>-0.169728</td>\n",
       "      <td>0.033606</td>\n",
       "      <td>-0.072800</td>\n",
       "      <td>0.048497</td>\n",
       "    </tr>\n",
       "    <tr>\n",
       "      <th>if_Wednesday</th>\n",
       "      <td>0.002704</td>\n",
       "      <td>-0.010873</td>\n",
       "      <td>0.009437</td>\n",
       "      <td>-0.003123</td>\n",
       "      <td>0.004710</td>\n",
       "      <td>-0.002073</td>\n",
       "      <td>-0.156484</td>\n",
       "      <td>-0.160042</td>\n",
       "      <td>1.000000</td>\n",
       "      <td>-0.162451</td>\n",
       "      <td>-0.168131</td>\n",
       "      <td>-0.166120</td>\n",
       "      <td>0.026648</td>\n",
       "      <td>-0.046466</td>\n",
       "      <td>-0.015126</td>\n",
       "    </tr>\n",
       "    <tr>\n",
       "      <th>if_Thursday</th>\n",
       "      <td>0.009878</td>\n",
       "      <td>-0.007274</td>\n",
       "      <td>0.007228</td>\n",
       "      <td>-0.007259</td>\n",
       "      <td>0.004755</td>\n",
       "      <td>-0.000873</td>\n",
       "      <td>-0.162289</td>\n",
       "      <td>-0.165978</td>\n",
       "      <td>-0.162451</td>\n",
       "      <td>1.000000</td>\n",
       "      <td>-0.174368</td>\n",
       "      <td>-0.172283</td>\n",
       "      <td>0.018714</td>\n",
       "      <td>0.125076</td>\n",
       "      <td>0.013583</td>\n",
       "    </tr>\n",
       "    <tr>\n",
       "      <th>if_Friday</th>\n",
       "      <td>0.002704</td>\n",
       "      <td>-0.008359</td>\n",
       "      <td>0.006868</td>\n",
       "      <td>-0.007387</td>\n",
       "      <td>0.004686</td>\n",
       "      <td>0.005392</td>\n",
       "      <td>-0.167963</td>\n",
       "      <td>-0.171782</td>\n",
       "      <td>-0.168131</td>\n",
       "      <td>-0.174368</td>\n",
       "      <td>1.000000</td>\n",
       "      <td>-0.178307</td>\n",
       "      <td>0.002166</td>\n",
       "      <td>0.001796</td>\n",
       "      <td>-0.097201</td>\n",
       "    </tr>\n",
       "    <tr>\n",
       "      <th>if_Saturday</th>\n",
       "      <td>-0.018006</td>\n",
       "      <td>-0.010925</td>\n",
       "      <td>-0.019946</td>\n",
       "      <td>-0.026964</td>\n",
       "      <td>-0.009789</td>\n",
       "      <td>-0.011499</td>\n",
       "      <td>-0.165955</td>\n",
       "      <td>-0.169728</td>\n",
       "      <td>-0.166120</td>\n",
       "      <td>-0.172283</td>\n",
       "      <td>-0.178307</td>\n",
       "      <td>1.000000</td>\n",
       "      <td>-0.050904</td>\n",
       "      <td>0.063845</td>\n",
       "      <td>-0.082942</td>\n",
       "    </tr>\n",
       "    <tr>\n",
       "      <th>if_during_peek</th>\n",
       "      <td>-0.060756</td>\n",
       "      <td>-0.087966</td>\n",
       "      <td>0.061123</td>\n",
       "      <td>-0.002580</td>\n",
       "      <td>0.032411</td>\n",
       "      <td>-0.045786</td>\n",
       "      <td>0.029339</td>\n",
       "      <td>0.033606</td>\n",
       "      <td>0.026648</td>\n",
       "      <td>0.018714</td>\n",
       "      <td>0.002166</td>\n",
       "      <td>-0.050904</td>\n",
       "      <td>1.000000</td>\n",
       "      <td>-0.007058</td>\n",
       "      <td>0.004009</td>\n",
       "    </tr>\n",
       "    <tr>\n",
       "      <th>visib</th>\n",
       "      <td>0.000867</td>\n",
       "      <td>0.002790</td>\n",
       "      <td>0.001446</td>\n",
       "      <td>-0.002462</td>\n",
       "      <td>0.000719</td>\n",
       "      <td>-0.000188</td>\n",
       "      <td>-0.113618</td>\n",
       "      <td>-0.072800</td>\n",
       "      <td>-0.046466</td>\n",
       "      <td>0.125076</td>\n",
       "      <td>0.001796</td>\n",
       "      <td>0.063845</td>\n",
       "      <td>-0.007058</td>\n",
       "      <td>1.000000</td>\n",
       "      <td>-0.380704</td>\n",
       "    </tr>\n",
       "    <tr>\n",
       "      <th>prcp</th>\n",
       "      <td>-0.000108</td>\n",
       "      <td>0.004694</td>\n",
       "      <td>-0.002518</td>\n",
       "      <td>0.012611</td>\n",
       "      <td>-0.003748</td>\n",
       "      <td>0.000678</td>\n",
       "      <td>0.112940</td>\n",
       "      <td>0.048497</td>\n",
       "      <td>-0.015126</td>\n",
       "      <td>0.013583</td>\n",
       "      <td>-0.097201</td>\n",
       "      <td>-0.082942</td>\n",
       "      <td>0.004009</td>\n",
       "      <td>-0.380704</td>\n",
       "      <td>1.000000</td>\n",
       "    </tr>\n",
       "  </tbody>\n",
       "</table>\n",
       "</div>"
      ],
      "text/plain": [
       "                   travel_time  distance_in_km  pickup_latitude  \\\n",
       "travel_time           1.000000        0.866245        -0.140807   \n",
       "distance_in_km        0.866245        1.000000        -0.166063   \n",
       "pickup_latitude      -0.140807       -0.166063         1.000000   \n",
       "pickup_longitude      0.325434        0.421274         0.079772   \n",
       "dropoff_latitude     -0.122894       -0.047239         0.562041   \n",
       "dropoff_longitude     0.337474        0.403802         0.059488   \n",
       "if_Monday            -0.004008        0.007091         0.009119   \n",
       "if_Tuesday           -0.000586       -0.007682         0.007588   \n",
       "if_Wednesday          0.002704       -0.010873         0.009437   \n",
       "if_Thursday           0.009878       -0.007274         0.007228   \n",
       "if_Friday             0.002704       -0.008359         0.006868   \n",
       "if_Saturday          -0.018006       -0.010925        -0.019946   \n",
       "if_during_peek       -0.060756       -0.087966         0.061123   \n",
       "visib                 0.000867        0.002790         0.001446   \n",
       "prcp                 -0.000108        0.004694        -0.002518   \n",
       "\n",
       "                   pickup_longitude  dropoff_latitude  dropoff_longitude  \\\n",
       "travel_time                0.325434         -0.122894           0.337474   \n",
       "distance_in_km             0.421274         -0.047239           0.403802   \n",
       "pickup_latitude            0.079772          0.562041           0.059488   \n",
       "pickup_longitude           1.000000          0.047163           0.410304   \n",
       "dropoff_latitude           0.047163          1.000000           0.294754   \n",
       "dropoff_longitude          0.410304          0.294754           1.000000   \n",
       "if_Monday                  0.025865          0.001730           0.001861   \n",
       "if_Tuesday                 0.006913          0.003234          -0.004831   \n",
       "if_Wednesday              -0.003123          0.004710          -0.002073   \n",
       "if_Thursday               -0.007259          0.004755          -0.000873   \n",
       "if_Friday                 -0.007387          0.004686           0.005392   \n",
       "if_Saturday               -0.026964         -0.009789          -0.011499   \n",
       "if_during_peek            -0.002580          0.032411          -0.045786   \n",
       "visib                     -0.002462          0.000719          -0.000188   \n",
       "prcp                       0.012611         -0.003748           0.000678   \n",
       "\n",
       "                   if_Monday  if_Tuesday  if_Wednesday  if_Thursday  \\\n",
       "travel_time        -0.004008   -0.000586      0.002704     0.009878   \n",
       "distance_in_km      0.007091   -0.007682     -0.010873    -0.007274   \n",
       "pickup_latitude     0.009119    0.007588      0.009437     0.007228   \n",
       "pickup_longitude    0.025865    0.006913     -0.003123    -0.007259   \n",
       "dropoff_latitude    0.001730    0.003234      0.004710     0.004755   \n",
       "dropoff_longitude   0.001861   -0.004831     -0.002073    -0.000873   \n",
       "if_Monday           1.000000   -0.159882     -0.156484    -0.162289   \n",
       "if_Tuesday         -0.159882    1.000000     -0.160042    -0.165978   \n",
       "if_Wednesday       -0.156484   -0.160042      1.000000    -0.162451   \n",
       "if_Thursday        -0.162289   -0.165978     -0.162451     1.000000   \n",
       "if_Friday          -0.167963   -0.171782     -0.168131    -0.174368   \n",
       "if_Saturday        -0.165955   -0.169728     -0.166120    -0.172283   \n",
       "if_during_peek      0.029339    0.033606      0.026648     0.018714   \n",
       "visib              -0.113618   -0.072800     -0.046466     0.125076   \n",
       "prcp                0.112940    0.048497     -0.015126     0.013583   \n",
       "\n",
       "                   if_Friday  if_Saturday  if_during_peek     visib      prcp  \n",
       "travel_time         0.002704    -0.018006       -0.060756  0.000867 -0.000108  \n",
       "distance_in_km     -0.008359    -0.010925       -0.087966  0.002790  0.004694  \n",
       "pickup_latitude     0.006868    -0.019946        0.061123  0.001446 -0.002518  \n",
       "pickup_longitude   -0.007387    -0.026964       -0.002580 -0.002462  0.012611  \n",
       "dropoff_latitude    0.004686    -0.009789        0.032411  0.000719 -0.003748  \n",
       "dropoff_longitude   0.005392    -0.011499       -0.045786 -0.000188  0.000678  \n",
       "if_Monday          -0.167963    -0.165955        0.029339 -0.113618  0.112940  \n",
       "if_Tuesday         -0.171782    -0.169728        0.033606 -0.072800  0.048497  \n",
       "if_Wednesday       -0.168131    -0.166120        0.026648 -0.046466 -0.015126  \n",
       "if_Thursday        -0.174368    -0.172283        0.018714  0.125076  0.013583  \n",
       "if_Friday           1.000000    -0.178307        0.002166  0.001796 -0.097201  \n",
       "if_Saturday        -0.178307     1.000000       -0.050904  0.063845 -0.082942  \n",
       "if_during_peek      0.002166    -0.050904        1.000000 -0.007058  0.004009  \n",
       "visib               0.001796     0.063845       -0.007058  1.000000 -0.380704  \n",
       "prcp               -0.097201    -0.082942        0.004009 -0.380704  1.000000  "
      ]
     },
     "execution_count": 57,
     "metadata": {},
     "output_type": "execute_result"
    }
   ],
   "source": [
    "df_train.corr()"
   ]
  },
  {
   "cell_type": "markdown",
   "metadata": {},
   "source": [
    "We can see travel time is highly correlated with the travel distance and location of pickup and dropoff, which is consistent with our expectation. Besides, the number of accidents during the 30 minutes before pickup time and if_during_peak are also good variables. It's easy to interpret because if it's during peak period the traffic is heavy,so the travel time would be longer than normal in our common sense. Similarly, if the number of accidents happend in that period is large, which means the traffic flow might stagnate, the travel time would be longer as well.\n",
    "\n",
    "However, some variables are not as good as we expect, such as the dayname variables and weather variables. Even though these variables seem bad, we still put them in our original model. In the model selection part, we use some variable selection methods to exclude part of them to improve our model performance."
   ]
  },
  {
   "cell_type": "markdown",
   "metadata": {},
   "source": [
    "Next,we draw some plots to make it easy to know the relationship between these variables with travel time."
   ]
  },
  {
   "cell_type": "code",
   "execution_count": 84,
   "metadata": {},
   "outputs": [
    {
     "data": {
      "text/plain": [
       "<matplotlib.axes._subplots.AxesSubplot at 0x124294390>"
      ]
     },
     "execution_count": 84,
     "metadata": {},
     "output_type": "execute_result"
    },
    {
     "data": {
      "image/png": "[encoded data removed]",
      "text/plain": [
       "<Figure size 432x288 with 1 Axes>"
      ]
     },
     "metadata": {},
     "output_type": "display_data"
    }
   ],
   "source": [
    "# plot Distance vs. Travel_time\n",
    "df_train.plot(x='distance_in_km',y='travel_time',kind='scatter')"
   ]
  },
  {
   "cell_type": "code",
   "execution_count": 90,
   "metadata": {},
   "outputs": [
    {
     "data": {
      "text/plain": [
       "<matplotlib.axes._subplots.AxesSubplot at 0x1e699fbfd0>"
      ]
     },
     "execution_count": 90,
     "metadata": {},
     "output_type": "execute_result"
    },
    {
     "data": {
      "image/png": "[encoded data removed]",
      "text/plain": [
       "<Figure size 432x288 with 1 Axes>"
      ]
     },
     "metadata": {},
     "output_type": "display_data"
    }
   ],
   "source": [
    "df_train[['travel_time','if_during_peek']].boxplot(by='if_during_peek')"
   ]
  },
  {
   "cell_type": "code",
   "execution_count": 91,
   "metadata": {},
   "outputs": [
    {
     "data": {
      "text/plain": [
       "<matplotlib.axes._subplots.AxesSubplot at 0x1e6e11fa20>"
      ]
     },
     "execution_count": 91,
     "metadata": {},
     "output_type": "execute_result"
    },
    {
     "data": {
      "image/png": "[encoded data removed]",
      "text/plain": [
       "<Figure size 432x288 with 1 Axes>"
      ]
     },
     "metadata": {},
     "output_type": "display_data"
    }
   ],
   "source": [
    "# plot Visibility vs. Travel_time\n",
    "df_train.plot(x='visib',y='travel_time',kind='scatter')"
   ]
  },
  {
   "cell_type": "code",
   "execution_count": 92,
   "metadata": {},
   "outputs": [
    {
     "data": {
      "text/plain": [
       "<matplotlib.axes._subplots.AxesSubplot at 0x1750bb7f0>"
      ]
     },
     "execution_count": 92,
     "metadata": {},
     "output_type": "execute_result"
    },
    {
     "data": {
      "image/png": "[encoded data removed]",
      "text/plain": [
       "<Figure size 432x288 with 1 Axes>"
      ]
     },
     "metadata": {},
     "output_type": "display_data"
    }
   ],
   "source": [
    "df_train[['travel_time','fog']].boxplot(by='fog')"
   ]
  },
  {
   "cell_type": "markdown",
   "metadata": {},
   "source": [
    "From the plots showed above, we could get some general understanding of our dataset which is necessary for our future analysis and model building."
   ]
  },
  {
   "cell_type": "markdown",
   "metadata": {},
   "source": [
    "## 3.Model construction and comparision"
   ]
  },
  {
   "cell_type": "markdown",
   "metadata": {},
   "source": [
    "In this part, we build different machine learning models including linear regression, random forest and boosting to predict the travel time. Compare all the models and choose the best one as our final model.  "
   ]
  },
  {
   "cell_type": "markdown",
   "metadata": {},
   "source": [
    "First we devide the data into training and testing part. The training part is used to train the model and the testing part is used to evaluate the performance of the model."
   ]
  },
  {
   "cell_type": "code",
   "execution_count": 49,
   "metadata": {},
   "outputs": [],
   "source": [
    "#Train and test data split\n",
    "from sklearn.model_selection import train_test_split\n",
    "\n",
    "x = df_train[['distance_in_km','pickup_latitude','pickup_longitude','dropoff_latitude','dropoff_longitude','if_Monday','if_Tuesday', 'if_Wednesday',\n",
    "       'if_Thursday', 'if_Friday', 'if_Saturday','if_during_peek','visib','fog','prcp','snow_ice_pellets']]\n",
    "y = df_train['travel_time']\n",
    "x_train, x_test, y_train, y_test = train_test_split(x, y, test_size=0.2, random_state=7)"
   ]
  },
  {
   "cell_type": "markdown",
   "metadata": {},
   "source": [
    "### 3.1Linear Regression"
   ]
  },
  {
   "cell_type": "markdown",
   "metadata": {},
   "source": [
    "In this part, an ordinary least square model will be built and the t-test will be used to see the importance of each feature. Then we apply the shrinkage methods including Lasso and Ridge to see whether they can improve the linear model."
   ]
  },
  {
   "cell_type": "markdown",
   "metadata": {},
   "source": [
    "#### 3.1.1Ordinary Least Square"
   ]
  },
  {
   "cell_type": "markdown",
   "metadata": {},
   "source": [
    "First, we build a ordinary least square model."
   ]
  },
  {
   "cell_type": "code",
   "execution_count": 50,
   "metadata": {},
   "outputs": [
    {
     "data": {
      "text/plain": [
       "0.7655693658545638"
      ]
     },
     "execution_count": 50,
     "metadata": {},
     "output_type": "execute_result"
    }
   ],
   "source": [
    "import numpy as np\n",
    "from sklearn.linear_model import LinearRegression\n",
    "\n",
    "linear_mod = LinearRegression()\n",
    "linear_mod.fit(x_train,y_train)\n",
    "linear_mod.score(x_test,y_test)"
   ]
  },
  {
   "cell_type": "markdown",
   "metadata": {},
   "source": [
    "Then we want to use t-test to show the importance of each variable."
   ]
  },
  {
   "cell_type": "code",
   "execution_count": null,
   "metadata": {},
   "outputs": [],
   "source": [
    "import scipy, scipy.stats\n",
    "import statsmodels.api as sm\n",
    "\n",
    "result = sm.OLS(y_train, x_train).fit()\n",
    "result.summary()"
   ]
  },
  {
   "cell_type": "markdown",
   "metadata": {},
   "source": [
    "results:"
   ]
  },
  {
   "cell_type": "markdown",
   "metadata": {},
   "source": [
    "#### 3.1.2Lasso Regression"
   ]
  },
  {
   "cell_type": "markdown",
   "metadata": {},
   "source": [
    "We scale the train and test data seperately to make it reasonable in the Lasso regression (also Ridge regression). For convenience to other generated data, we build a function to scale x and y."
   ]
  },
  {
   "cell_type": "code",
   "execution_count": 1,
   "metadata": {},
   "outputs": [],
   "source": [
    "#function scale_dat, Input: x, y, output: x_scaled, y_scaled\n",
    "from sklearn import preprocessing\n",
    "\n",
    "def scale_dat(x ,y):\n",
    "    x_scaled = preprocessing.scale(x)\n",
    "    y_scaled = y - np.mean(y)\n",
    "    return x_scaled, y_scaled"
   ]
  },
  {
   "cell_type": "code",
   "execution_count": null,
   "metadata": {},
   "outputs": [],
   "source": [
    "#scale the train and test set\n",
    "x_train_scale, y_train_scale = scale_dat(x_train, y_train)\n",
    "x_test_scale, y_test_scale = scale_dat(x_test, y_test)"
   ]
  },
  {
   "cell_type": "markdown",
   "metadata": {},
   "source": [
    "Use cross validation to determine the optimal value of alpha:"
   ]
  },
  {
   "cell_type": "code",
   "execution_count": null,
   "metadata": {},
   "outputs": [],
   "source": [
    "import numpy as np\n",
    "from sklearn.linear_model import Lasso\n",
    "from sklearn.model_selection import GridSearchCV\n",
    "\n",
    "#Use cross validation to find the best alpha\n",
    "alphas = np.linspace(0.01, 0.3, 10000)\n",
    "dic_alphas = dict(alpha = alphas)\n",
    "grid_search = GridSearchCV(Lasso(), dic_alphas, scoring = 'r2',n_jobs = -1,cv = 5)\n",
    "grid_result = grid_search.fit(x_train_scale, y_train_scale)\n",
    "alpha_opt = grid_result.best_params_\n",
    "print alpha_opt"
   ]
  },
  {
   "cell_type": "markdown",
   "metadata": {},
   "source": [
    "Based on the best alpha build the Lasso model:"
   ]
  },
  {
   "cell_type": "code",
   "execution_count": null,
   "metadata": {},
   "outputs": [],
   "source": [
    "#Use the optimal alpha to build the Lasso Model\n",
    "Lasso_mod = Lasso(alpha = alpha_opt)\n",
    "Lasso_mod.fit(x_train_scale,y_train_scale)\n",
    "Lasso_mod.score(x_test_scale,y_test_scale)"
   ]
  },
  {
   "cell_type": "markdown",
   "metadata": {},
   "source": [
    "result"
   ]
  },
  {
   "cell_type": "markdown",
   "metadata": {},
   "source": [
    "#### 3.1.3Ridge Regeression "
   ]
  },
  {
   "cell_type": "markdown",
   "metadata": {},
   "source": [
    "Use cross validation to determine the optimal value of alpha"
   ]
  },
  {
   "cell_type": "code",
   "execution_count": null,
   "metadata": {},
   "outputs": [],
   "source": [
    "import numpy as np\n",
    "from sklearn.linear_model import Ridge\n",
    "from sklearn.model_selection import GridSearchCV\n",
    "\n",
    "#Use cross validation to find the best alpha\n",
    "alphas = np.linspace(0.01, 0.3, 10000)\n",
    "dic_alphas = dict(alpha = alphas)\n",
    "grid_search = GridSearchCV(Ridge(), dic_alphas, scoring = 'r2',n_jobs = -1,cv = 5)\n",
    "grid_result = grid_search.fit(x_train_scale, y_train_scale)\n",
    "alpha_opt = grid_result.best_params_\n",
    "print alpha_opt"
   ]
  },
  {
   "cell_type": "markdown",
   "metadata": {},
   "source": [
    "Based on the best alpha build the Ridge model"
   ]
  },
  {
   "cell_type": "code",
   "execution_count": null,
   "metadata": {},
   "outputs": [],
   "source": [
    "#Use the optimal alpha to build the Lasso Model\n",
    "Ridge_mod = Ridge(alpha = alpha_opt)\n",
    "Ridge_mod.fit(x_train_scale,y_train_scale)\n",
    "Ridge_mod.score(x_test_scale,y_test_scale)"
   ]
  },
  {
   "cell_type": "code",
   "execution_count": null,
   "metadata": {},
   "outputs": [],
   "source": [
    "result"
   ]
  },
  {
   "cell_type": "markdown",
   "metadata": {},
   "source": [
    "### 3.2Random Forest"
   ]
  },
  {
   "cell_type": "markdown",
   "metadata": {},
   "source": [
    "Use cross validation to determine the optimal value hyper-parameters in random forest. Here we tune the hyper-parameter of n_estimators, max_depth and max_features."
   ]
  },
  {
   "cell_type": "code",
   "execution_count": null,
   "metadata": {},
   "outputs": [],
   "source": [
    "import numpy as np\n",
    "from sklearn.ensemble import RandomForestRegressor\n",
    "from sklearn.model_selection import GridSearchCV\n",
    "\n",
    "#Use cross validation to find the best hyper-parameter\n",
    "max_depth = np.linspace(1,50)\n",
    "max_features = [2,3,4,5,6,7,8]\n",
    "n_estimators = [100, 200, 300, 400]\n",
    "\n",
    "dic_para = dict(max_depth = max_depth, max_features = max_features, n_estimators = n_estimators)\n",
    "grid_search = GridSearchCV(RandomForestRegressor(), dic_para, scoring = 'r2', n_jobs = -1,cv = 3)\n",
    "grid_result = grid_search.fit(x_train, y_train)\n",
    "para_opt = grid_result.best_params_\n",
    "print para_opt"
   ]
  },
  {
   "cell_type": "markdown",
   "metadata": {},
   "source": [
    "Build the Random Forest based on the optimal parameters:"
   ]
  },
  {
   "cell_type": "code",
   "execution_count": 55,
   "metadata": {},
   "outputs": [
    {
     "data": {
      "text/plain": [
       "array([9.06369979e-01, 1.67350615e-02, 1.94470107e-02, 1.93405609e-02,\n",
       "       1.97618824e-02, 9.37082342e-04, 1.00023625e-03, 1.06371338e-03,\n",
       "       1.22152544e-03, 1.12811072e-03, 1.13803021e-03, 1.70733569e-03,\n",
       "       5.30536324e-03, 3.33422952e-04, 3.93382014e-03, 5.76865054e-04])"
      ]
     },
     "execution_count": 55,
     "metadata": {},
     "output_type": "execute_result"
    }
   ],
   "source": [
    "Rf_mod = RandomForestRegressor(n_estimators=100,\n",
    "                                \n",
    "                                \n",
    "                             random_state=0)\n",
    "\n",
    "Rf_mod.fit(x_train,y_train)\n",
    "Rf_mod.score(x_test,y_test)\n",
    "Rf_mod.feature_importances_"
   ]
  },
  {
   "cell_type": "code",
   "execution_count": 68,
   "metadata": {},
   "outputs": [
    {
     "data": {
      "text/plain": [
       "<BarContainer object of 15 artists>"
      ]
     },
     "execution_count": 68,
     "metadata": {},
     "output_type": "execute_result"
    },
    {
     "data": {
      "image/png": "[encoded data removed]",
      "text/plain": [
       "<Figure size 432x288 with 1 Axes>"
      ]
     },
     "metadata": {},
     "output_type": "display_data"
    }
   ],
   "source": [
    "t = np.linspace(1,17,15)\n",
    "plt.bar(t,Rf_mod.feature_importances_[1:16])"
   ]
  },
  {
   "cell_type": "code",
   "execution_count": 69,
   "metadata": {},
   "outputs": [
    {
     "data": {
      "text/plain": [
       "Index(['distance_in_km', 'pickup_latitude', 'pickup_longitude',\n",
       "       'dropoff_latitude', 'dropoff_longitude', 'if_Monday', 'if_Tuesday',\n",
       "       'if_Wednesday', 'if_Thursday', 'if_Friday', 'if_Saturday',\n",
       "       'if_during_peek', 'visib', 'fog', 'prcp', 'snow_ice_pellets'],\n",
       "      dtype='object')"
      ]
     },
     "execution_count": 69,
     "metadata": {},
     "output_type": "execute_result"
    }
   ],
   "source": [
    "x.columns"
   ]
  },
  {
   "cell_type": "markdown",
   "metadata": {},
   "source": [
    "### 3.3AdaBoost"
   ]
  },
  {
   "cell_type": "markdown",
   "metadata": {},
   "source": [
    "Use cross validation to determine the optimal value hyper-parameters in Adaboosting. Here we tune the hyper-parameter of n_estimators and learning_rate. There is a trade-off between the two hyperparameters which means the smaller learning rate may need a larger n. The default tree with 3 depth are used."
   ]
  },
  {
   "cell_type": "code",
   "execution_count": null,
   "metadata": {},
   "outputs": [],
   "source": [
    "import numpy as np\n",
    "from sklearn.ensemble import AdaBoostRegressor\n",
    "from sklearn.model_selection import GridSearchCV\n",
    "\n",
    "#Use cross validation to find the best hyper-parameter\n",
    "\n",
    "n_estimators = [100, 200, 300, 400]\n",
    "learning_rate = \n",
    "\n",
    "dic_para = dict(learning_rate = learning_rate, n_estimators = n_estimators)\n",
    "grid_search = GridSearchCV(AdaBoostRegressor(), dic_para, scoring = 'r2', n_jobs = -1,cv = 3)\n",
    "grid_result = grid_search.fit(x_train, y_train)\n",
    "para_opt = grid_result.best_params_\n",
    "print para_opt"
   ]
  },
  {
   "cell_type": "markdown",
   "metadata": {},
   "source": [
    "Build the Adaboost model based on the optimal parameters:"
   ]
  },
  {
   "cell_type": "code",
   "execution_count": null,
   "metadata": {},
   "outputs": [],
   "source": [
    "Boost_mod = AdaBoostRegressor( ,\n",
    "                             random_state=0)\n",
    "\n",
    "Boost_mod.fit(x_train,y_train)\n",
    "Boost_mod.score(x_test,y_test)\n",
    "Boost_mod.feature_importances_"
   ]
  },
  {
   "cell_type": "markdown",
   "metadata": {},
   "source": [
    "### 3.4Comparision"
   ]
  },
  {
   "cell_type": "code",
   "execution_count": null,
   "metadata": {},
   "outputs": [],
   "source": [
    "SELECT \n",
    "     pickup_latitude,\n",
    "     dropoff_longitude,\n",
    "     pickup_longitude,\n",
    "     dropoff_latitude,\n",
    "     pickup_datetime,\n",
    "     dropoff_datetime\n",
    "FROM `bigquery-public-data.new_york.tlc_yellow_trips_2016`\n",
    "LIMIT 100"
   ]
  },
  {
   "cell_type": "code",
   "execution_count": null,
   "metadata": {},
   "outputs": [],
   "source": [
    "SELECT timestamp,latitude,longitude\n",
    "FROM `bigquery-public-data.new_york_mv_collisions.nypd_mv_collisions`\n",
    "LIMIT 100"
   ]
  },
  {
   "cell_type": "code",
   "execution_count": null,
   "metadata": {},
   "outputs": [],
   "source": []
  },
  {
   "cell_type": "code",
   "execution_count": null,
   "metadata": {},
   "outputs": [],
   "source": []
  },
  {
   "cell_type": "code",
   "execution_count": null,
   "metadata": {},
   "outputs": [],
   "source": [
    "def get_accident_count(dat_1, dat_2):\n",
    "    \"\"\"\n",
    "        @param dat_1: [start_lati, start_long, end_lati, end_long, 30min before start_time, start_time]\n",
    "        @param dat_2: # [latitude, longitude, timestamp]\n",
    "        \n",
    "    \"\"\"\n",
    "    list1 = dat_1.values.tolist() # convert dat_1 to list \n",
    "    list2 = dat_2.values.tolist() # convert dat_2 to list\n",
    "    \n",
    "    result = [] # keep final result\n",
    "    wrong_counter = 0 # count exceptions\n",
    "    \n",
    "    for i in range(len(list1)):\n",
    "        l1 = list1[i] # current list\n",
    "        \n",
    "        # Convert timestamp to naive timezone\n",
    "        ts1 = l1[4] # timestamp 1\n",
    "        ts2 = l1[5] # timestamp 2\n",
    "        l1[4] = pd.Timestamp(ts1.year, ts1.month, ts1.day, ts1.hour, ts1.minute, ts1.second)\n",
    "        l1[5] = pd.Timestamp(ts2.year, ts2.month, ts2.day, ts2.hour, ts2.minute, ts2.second)\n",
    "        try:\n",
    "            if (l1[0] >= l1[2]):\n",
    "                start_lat = l1[2]\n",
    "                end_lat = l1[0]\n",
    "            else:\n",
    "                start_lat = l1[0]\n",
    "                end_lat = l1[2]\n",
    "            if (l1[1] >= l1[3]):\n",
    "                start_long = l1[3]\n",
    "                end_long = l1[1]\n",
    "            else:\n",
    "                start_long = l1[1]\n",
    "                end_long = l1[3]\n",
    "            start_time = l1[4]\n",
    "            end_time = l1[5]\n",
    "            counter = 0\n",
    "            # For each list in dat_1, check all lists in dat_2\n",
    "            for j in range(len(list2)):\n",
    "                l2 = list2[j]\n",
    "                if (start_lat <= l2[1] and end_lat >= l2[1] and start_long <= l2[2] and end_long >= l2[2] and start_time <= l2[0] and end_time >= l2[0]):\n",
    "                    counter += 1\n",
    "            result.append(counter)\n",
    "        except:\n",
    "            result.append(-1)\n",
    "            print(\"An exception occured during execution!!!!!\")\n",
    "            wrong_counter += 1\n",
    "            continue\n",
    "    \n",
    "    return result"
   ]
  },
  {
   "cell_type": "markdown",
   "metadata": {},
   "source": [
    "## 4. Prediction on test set"
   ]
  },
  {
   "cell_type": "code",
   "execution_count": null,
   "metadata": {},
   "outputs": [],
   "source": [
    "test = pd.read_csv('APM4990_final_test_data_filtered.csv')\n"
   ]
  }
 ],
 "metadata": {
  "kernelspec": {
   "display_name": "Python 3",
   "language": "python",
   "name": "python3"
  },
  "language_info": {
   "codemirror_mode": {
    "name": "ipython",
    "version": 3
   },
   "file_extension": ".py",
   "mimetype": "text/x-python",
   "name": "python",
   "nbconvert_exporter": "python",
   "pygments_lexer": "ipython3",
   "version": "3.6.5"
  }
 },
 "nbformat": 4,
 "nbformat_minor": 2
}
